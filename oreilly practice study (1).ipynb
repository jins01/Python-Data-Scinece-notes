{
 "cells": [
  {
   "cell_type": "code",
   "execution_count": 2,
   "id": "1680f5eb",
   "metadata": {},
   "outputs": [
    {
     "ename": "SyntaxError",
     "evalue": "invalid syntax (Temp/ipykernel_8620/2707756898.py, line 2)",
     "output_type": "error",
     "traceback": [
      "\u001b[1;36m  File \u001b[1;32m\"C:\\Users\\liji\\AppData\\Local\\Temp/ipykernel_8620/2707756898.py\"\u001b[1;36m, line \u001b[1;32m2\u001b[0m\n\u001b[1;33m    from urllib.request import url open\u001b[0m\n\u001b[1;37m                                   ^\u001b[0m\n\u001b[1;31mSyntaxError\u001b[0m\u001b[1;31m:\u001b[0m invalid syntax\n"
     ]
    }
   ],
   "source": [
    "import json\n",
    "from urllib.request import url open\n",
    "url = \"https://www.youtube.com/watch?v=dqGDeulDOKQ\"\n",
    "response = urlopen(url)\n",
    "contents = response.read()\n",
    "text = contents.decode(\"utf8\")\n",
    "data = json.loads(text)\n",
    "for video in data['feed']['entry'][0:6]:\n",
    "    print(video['title']['$t'])\n",
    "    "
   ]
  },
  {
   "cell_type": "code",
   "execution_count": 7,
   "id": "69d5cf65",
   "metadata": {},
   "outputs": [
    {
     "name": "stdout",
     "output_type": "stream",
     "text": [
      "4\n"
     ]
    }
   ],
   "source": [
    "a=20%8\n",
    "print(a)"
   ]
  },
  {
   "cell_type": "code",
   "execution_count": 8,
   "id": "56cce091",
   "metadata": {},
   "outputs": [
    {
     "name": "stdout",
     "output_type": "stream",
     "text": [
      "A man,\n",
      " A Plan,\n",
      "  A Canal:\n",
      "   Panama.\n",
      "\"I did nothing\",he said.\n"
     ]
    }
   ],
   "source": [
    "# use of charactor \\n\n",
    "palindrome = 'A man,\\n A Plan,\\n  A Canal:\\n   Panama.'\n",
    "print(palindrome)\n",
    "\n",
    "testimony=\"\\\"I did nothing\\\",he said.\"\n",
    "print(testimony)"
   ]
  },
  {
   "cell_type": "code",
   "execution_count": 16,
   "id": "9511e5ff",
   "metadata": {},
   "outputs": [
    {
     "name": "stdout",
     "output_type": "stream",
     "text": [
      "Na Na Na Na \n",
      "Na Na Na Na \n",
      "Na Na Na Na \n",
      "Hey Hey Hey \n",
      "Goodbye\n"
     ]
    }
   ],
   "source": [
    "#Duplicate with *\n",
    "start = 'Na ' * 4 + \"\\n\"\n",
    "middle = 'Hey ' * 3 + \"\\n\"\n",
    "end = 'Goodbye'\n",
    "print(start + 2* start + middle + end)"
   ]
  },
  {
   "cell_type": "code",
   "execution_count": 21,
   "id": "453cfd81",
   "metadata": {},
   "outputs": [
    {
     "name": "stdout",
     "output_type": "stream",
     "text": [
      "26\n"
     ]
    },
    {
     "data": {
      "text/plain": [
       "'klmnopqrstuvwxyz'"
      ]
     },
     "execution_count": 21,
     "metadata": {},
     "output_type": "execute_result"
    }
   ],
   "source": [
    "# slice with [start:end:step]\n",
    "letters = \"abcdefghijklmnopqrstuvwxyz\"\n",
    "print(len(letters))"
   ]
  },
  {
   "cell_type": "code",
   "execution_count": 22,
   "id": "7e18288d",
   "metadata": {},
   "outputs": [
    {
     "data": {
      "text/plain": [
       "'abcdefghijklmnopqrstuvwxyz'"
      ]
     },
     "execution_count": 22,
     "metadata": {},
     "output_type": "execute_result"
    }
   ],
   "source": [
    "letters[:]"
   ]
  },
  {
   "cell_type": "code",
   "execution_count": 23,
   "id": "71861610",
   "metadata": {},
   "outputs": [
    {
     "data": {
      "text/plain": [
       "'uvwxyz'"
      ]
     },
     "execution_count": 23,
     "metadata": {},
     "output_type": "execute_result"
    }
   ],
   "source": [
    "letters[20:]"
   ]
  },
  {
   "cell_type": "code",
   "execution_count": 24,
   "id": "e544a48a",
   "metadata": {},
   "outputs": [
    {
     "data": {
      "text/plain": [
       "'klmnopqrstuvwxyz'"
      ]
     },
     "execution_count": 24,
     "metadata": {},
     "output_type": "execute_result"
    }
   ],
   "source": [
    "letters[10:]"
   ]
  },
  {
   "cell_type": "code",
   "execution_count": 25,
   "id": "aa1ffd66",
   "metadata": {},
   "outputs": [
    {
     "data": {
      "text/plain": [
       "'mno'"
      ]
     },
     "execution_count": 25,
     "metadata": {},
     "output_type": "execute_result"
    }
   ],
   "source": [
    "letters[12:15]"
   ]
  },
  {
   "cell_type": "code",
   "execution_count": 26,
   "id": "173c35ca",
   "metadata": {},
   "outputs": [
    {
     "data": {
      "text/plain": [
       "'xyz'"
      ]
     },
     "execution_count": 26,
     "metadata": {},
     "output_type": "execute_result"
    }
   ],
   "source": [
    "letters[-3:]"
   ]
  },
  {
   "cell_type": "code",
   "execution_count": 27,
   "id": "8fc03653",
   "metadata": {},
   "outputs": [
    {
     "data": {
      "text/plain": [
       "'stuvw'"
      ]
     },
     "execution_count": 27,
     "metadata": {},
     "output_type": "execute_result"
    }
   ],
   "source": [
    "letters[18:-3]"
   ]
  },
  {
   "cell_type": "code",
   "execution_count": 28,
   "id": "af9f7b13",
   "metadata": {},
   "outputs": [
    {
     "data": {
      "text/plain": [
       "'uvwx'"
      ]
     },
     "execution_count": 28,
     "metadata": {},
     "output_type": "execute_result"
    }
   ],
   "source": [
    "# 6 before the end to the 3 before the end\n",
    "letters[-6:-2]"
   ]
  },
  {
   "cell_type": "code",
   "execution_count": 29,
   "id": "bd7aa53f",
   "metadata": {},
   "outputs": [
    {
     "data": {
      "text/plain": [
       "'ahov'"
      ]
     },
     "execution_count": 29,
     "metadata": {},
     "output_type": "execute_result"
    }
   ],
   "source": [
    "#from start to the end, in steps of 7 characters:\n",
    "letters[::7]"
   ]
  },
  {
   "cell_type": "code",
   "execution_count": 30,
   "id": "e7764256",
   "metadata": {},
   "outputs": [
    {
     "data": {
      "text/plain": [
       "'ehknqt'"
      ]
     },
     "execution_count": 30,
     "metadata": {},
     "output_type": "execute_result"
    }
   ],
   "source": [
    "# from offset 4 to 19 by step 3\n",
    "letters[4:20:3]"
   ]
  },
  {
   "cell_type": "code",
   "execution_count": 31,
   "id": "0360dd54",
   "metadata": {},
   "outputs": [
    {
     "data": {
      "text/plain": [
       "'zyxwvutsrqponmlkjihgfedcba'"
      ]
     },
     "execution_count": 31,
     "metadata": {},
     "output_type": "execute_result"
    }
   ],
   "source": [
    "letters[-1::-1]"
   ]
  },
  {
   "cell_type": "code",
   "execution_count": 32,
   "id": "f6239f8d",
   "metadata": {},
   "outputs": [
    {
     "data": {
      "text/plain": [
       "'zyxwvutsrqponmlkjihgfedcba'"
      ]
     },
     "execution_count": 32,
     "metadata": {},
     "output_type": "execute_result"
    }
   ],
   "source": [
    "letters[::-1]"
   ]
  },
  {
   "cell_type": "code",
   "execution_count": 33,
   "id": "e067de30",
   "metadata": {},
   "outputs": [
    {
     "data": {
      "text/plain": [
       "['get gloves', 'get mask', ' give cal', 'call ambulance urgently']"
      ]
     },
     "execution_count": 33,
     "metadata": {},
     "output_type": "execute_result"
    }
   ],
   "source": [
    "#split functions\n",
    "tools = \"get gloves,get mask, give cal,call ambulance urgently\"\n",
    "tools.split(',')"
   ]
  },
  {
   "cell_type": "code",
   "execution_count": 36,
   "id": "8223ac35",
   "metadata": {},
   "outputs": [
    {
     "name": "stdout",
     "output_type": "stream",
     "text": [
      "Found and signing book deals: Yett, Bigfoot, Loch Ness Monster\n"
     ]
    }
   ],
   "source": [
    "#combine with join\n",
    "\n",
    "crypto_list = ['Yett','Bigfoot','Loch Ness Monster']\n",
    "crypto_string = ', '.join(crypto_list)\n",
    "print('Found and signing book deals:',crypto_string)"
   ]
  },
  {
   "cell_type": "code",
   "execution_count": 37,
   "id": "0aa3583f",
   "metadata": {},
   "outputs": [
    {
     "data": {
      "text/plain": [
       "'a duck goes into a bar'"
      ]
     },
     "execution_count": 37,
     "metadata": {},
     "output_type": "execute_result"
    }
   ],
   "source": [
    "#Case and alignment\n",
    "\n",
    "setup = 'a duck goes into a bar...'\n",
    "setup.strip('.')"
   ]
  },
  {
   "cell_type": "code",
   "execution_count": 38,
   "id": "fb7aebec",
   "metadata": {},
   "outputs": [
    {
     "data": {
      "text/plain": [
       "'A duck goes into a bar...'"
      ]
     },
     "execution_count": 38,
     "metadata": {},
     "output_type": "execute_result"
    }
   ],
   "source": [
    "#Capitalise the first word\n",
    "setup.capitalize()"
   ]
  },
  {
   "cell_type": "code",
   "execution_count": 39,
   "id": "4cefb5a8",
   "metadata": {},
   "outputs": [
    {
     "data": {
      "text/plain": [
       "'A Duck Goes Into A Bar...'"
      ]
     },
     "execution_count": 39,
     "metadata": {},
     "output_type": "execute_result"
    }
   ],
   "source": [
    "#Capitalize all words\n",
    "setup.title()"
   ]
  },
  {
   "cell_type": "code",
   "execution_count": 40,
   "id": "dd411fbd",
   "metadata": {},
   "outputs": [
    {
     "data": {
      "text/plain": [
       "'A DUCK GOES INTO A BAR...'"
      ]
     },
     "execution_count": 40,
     "metadata": {},
     "output_type": "execute_result"
    }
   ],
   "source": [
    "# Covert all characters to uppercase:\n",
    "setup.upper()"
   ]
  },
  {
   "cell_type": "code",
   "execution_count": 41,
   "id": "904dc824",
   "metadata": {},
   "outputs": [
    {
     "data": {
      "text/plain": [
       "'a duck goes into a bar...'"
      ]
     },
     "execution_count": 41,
     "metadata": {},
     "output_type": "execute_result"
    }
   ],
   "source": [
    "# Covert all characters to lowercase\n",
    "setup.lower()"
   ]
  },
  {
   "cell_type": "code",
   "execution_count": 43,
   "id": "6808dcef",
   "metadata": {},
   "outputs": [
    {
     "data": {
      "text/plain": [
       "'a donkey goes into a bar...'"
      ]
     },
     "execution_count": 43,
     "metadata": {},
     "output_type": "execute_result"
    }
   ],
   "source": [
    "# substitute with replace\n",
    "setup.replace('duck','donkey')"
   ]
  },
  {
   "cell_type": "code",
   "execution_count": 48,
   "id": "1a93b262",
   "metadata": {},
   "outputs": [],
   "source": [
    "#Dictionaries\n",
    "bierce = {\n",
    "        \"day\":'A period of twenty-four hours,mostly misspent',\n",
    "        \"positive\":\"Mistaken at the top of one's voice\",\n",
    "        \"misfortune\":'The kind of fortune that never misses',\n",
    "         }"
   ]
  },
  {
   "cell_type": "code",
   "execution_count": 50,
   "id": "ee0dbcf5",
   "metadata": {},
   "outputs": [
    {
     "data": {
      "text/plain": [
       "{'day': 'A period of twenty-four hours,mostly misspent',\n",
       " 'positive': \"Mistaken at the top of one's voice\",\n",
       " 'misfortune': 'The kind of fortune that never misses'}"
      ]
     },
     "execution_count": 50,
     "metadata": {},
     "output_type": "execute_result"
    }
   ],
   "source": [
    "bierce"
   ]
  },
  {
   "cell_type": "code",
   "execution_count": 51,
   "id": "7d2766ba",
   "metadata": {},
   "outputs": [
    {
     "data": {
      "text/plain": [
       "{'a': 'b', 'c': 'd', 'e': 'f'}"
      ]
     },
     "execution_count": 51,
     "metadata": {},
     "output_type": "execute_result"
    }
   ],
   "source": [
    "#list of two-item lists(lol)\n",
    "lol = [['a','b'],['c','d'],['e','f']]\n",
    "dict(lol)"
   ]
  },
  {
   "cell_type": "code",
   "execution_count": 52,
   "id": "70e58a5c",
   "metadata": {},
   "outputs": [
    {
     "data": {
      "text/plain": [
       "{'a': 'b', 'c': 'd', 'e': 'f'}"
      ]
     },
     "execution_count": 52,
     "metadata": {},
     "output_type": "execute_result"
    }
   ],
   "source": [
    "# a tuple of two-item lists:\n",
    "tol = (['a','b'],['c','d'],['e','f'])\n",
    "dict(tol)"
   ]
  },
  {
   "cell_type": "code",
   "execution_count": 57,
   "id": "2962fd95",
   "metadata": {},
   "outputs": [
    {
     "data": {
      "text/plain": [
       "{'a': 'b', 'c': 'd', 'e': 'f'}"
      ]
     },
     "execution_count": 57,
     "metadata": {},
     "output_type": "execute_result"
    }
   ],
   "source": [
    "los = ['ab','cd','ef']\n",
    "dict(los)"
   ]
  },
  {
   "cell_type": "code",
   "execution_count": null,
   "id": "0979f9a4",
   "metadata": {},
   "outputs": [],
   "source": []
  }
 ],
 "metadata": {
  "kernelspec": {
   "display_name": "Python 3 (ipykernel)",
   "language": "python",
   "name": "python3"
  },
  "language_info": {
   "codemirror_mode": {
    "name": "ipython",
    "version": 3
   },
   "file_extension": ".py",
   "mimetype": "text/x-python",
   "name": "python",
   "nbconvert_exporter": "python",
   "pygments_lexer": "ipython3",
   "version": "3.9.7"
  }
 },
 "nbformat": 4,
 "nbformat_minor": 5
}
